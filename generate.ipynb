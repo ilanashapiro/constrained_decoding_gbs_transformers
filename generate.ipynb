{
 "cells": [
  {
   "cell_type": "code",
   "execution_count": 1,
   "metadata": {},
   "outputs": [
    {
     "name": "stderr",
     "output_type": "stream",
     "text": [
      "c:\\Users\\18585\\anaconda3\\envs\\151bpa2\\lib\\site-packages\\tqdm\\auto.py:21: TqdmWarning: IProgress not found. Please update jupyter and ipywidgets. See https://ipywidgets.readthedocs.io/en/stable/user_install.html\n",
      "  from .autonotebook import tqdm as notebook_tqdm\n"
     ]
    }
   ],
   "source": [
    "import os\n",
    "from transformers import (\n",
    "    GPT2Tokenizer, \n",
    "    GPT2LMHeadModel, \n",
    ")\n",
    "from transformers import LogitsProcessorList, LogitsProcessor\n",
    "import numpy as np\n",
    "import torch\n",
    "dir_path = os.getcwd()"
   ]
  },
  {
   "cell_type": "code",
   "execution_count": 2,
   "metadata": {},
   "outputs": [],
   "source": [
    "model_name = \"gpt2\"\n",
    "tokenizer = GPT2Tokenizer.from_pretrained(model_name)\n",
    "tokenizer.pad_token = tokenizer.eos_token  # Set PAD token"
   ]
  },
  {
   "cell_type": "code",
   "execution_count": 3,
   "metadata": {},
   "outputs": [],
   "source": [
    "def contains(l1, l2):\n",
    "    \"\"\"Check if list l2 is contiguously contained in list l1.\"\"\"\n",
    "    len1, len2 = len(l1), len(l2)\n",
    "    # Iterate through all possible positions in l1 where l2 might fit\n",
    "    for pointer in range(len1 - len2 + 1):\n",
    "        # Compare each element in l2 with the corresponding elements in l1\n",
    "        if l1[pointer:pointer + len2] == l2:\n",
    "            return True\n",
    "    return False"
   ]
  },
  {
   "cell_type": "code",
   "execution_count": 4,
   "metadata": {},
   "outputs": [],
   "source": [
    "# Custom Logits Processor for Enforcing constraint appearence\n",
    "class OrderLogitsProcessor(LogitsProcessor):\n",
    "    def __init__(self, constraints, eos_id):\n",
    "        self.index = 0  \n",
    "        self.eos_token_id = eos_id\n",
    "        self.constraints = constraints\n",
    "        self.generated_tokens = []\n",
    "        self.generated_chunks = [0]*len(self.constraints)  # Track if each sequence has appeared\n",
    "\n",
    "    def __call__(self, input_ids, scores):\n",
    "        # Track generated tokens\n",
    "        boost = 10\n",
    "        self.generated_tokens.append(input_ids[0, -1].item())\n",
    "        if len(self.generated_tokens)>10:\n",
    "            self.generated_tokens.pop(0)\n",
    "        # Check if any of the required sequences appear in the generated tokens\n",
    "        for seq_idx, sequence in enumerate(self.constraints):\n",
    "            if not self.generated_chunks[seq_idx]:\n",
    "                # Check if the current sequence has appeared in the generated tokens\n",
    "                if contains(self.generated_tokens, sequence):\n",
    "                    self.generated_chunks[seq_idx] = 1  # Mark this sequence as generated\n",
    "                    print(scores[:,sequence[-1]])\n",
    "                else:\n",
    "                    if input_ids[0, -1].item() in sequence:\n",
    "                        next_index = sequence.index(input_ids[0, -1].item()) + 1\n",
    "                        if next_index < len(sequence):  # Ensure it's within bounds\n",
    "                            next_token = sequence[next_index]\n",
    "                            scores[:, next_token] += boost  # Boost next token\n",
    "                    elif scores[:,sequence[0]] == torch.abs(scores[:,sequence[0]]):#boost only if poisitive similarity\n",
    "                        scores[:,sequence[0]]+= boost\n",
    "                    elif torch.max(scores)<0:\n",
    "                        scores[:,sequence[0]]+= boost\n",
    "        # Once all sequences are generated, discourage <eos> generation\n",
    "        if not(all(self.generated_chunks)):\n",
    "            scores[:, self.eos_token_id] -= 10  # Strongly discourage <eos> token generation\n",
    "\n",
    "        return scores"
   ]
  },
  {
   "cell_type": "code",
   "execution_count": 5,
   "metadata": {},
   "outputs": [],
   "source": [
    "\n",
    "# Define Required Words\n",
    "required_words = [\"castle\", \"dragon\", \"knight\"]\n",
    "\n",
    "def load_model(model_path=dir_path+\"/fine_tuned_gpt2\"):\n",
    "    model = GPT2LMHeadModel.from_pretrained(model_path)\n",
    "    tokenizer = GPT2Tokenizer.from_pretrained(model_path)\n",
    "    return model, tokenizer\n",
    "\n",
    "# Generate Text with Enforced Word Order\n",
    "def generate_story(prompt, constraints= required_words):\n",
    "    loaded_model, tokenizer = load_model()\n",
    "    # Tokenize input\n",
    "    input_ids = tokenizer(prompt, return_tensors=\"pt\").input_ids\n",
    "    attention_mask = tokenizer(prompt, return_tensors=\"pt\", padding=True).attention_mask  # Generate attention mask\n",
    "    # Tokenize constraints\n",
    "    constraint_tokens = [tokenizer(seq, add_special_tokens=False).input_ids for seq in constraints]\n",
    "    logits_processor = LogitsProcessorList([OrderLogitsProcessor(constraint_tokens, tokenizer.eos_token_id)])\n",
    "    max_attempts = 3\n",
    "    max_length = 500  # Start with a reasonable max_length\n",
    "    generated_texts = {}\n",
    "    for _ in range(max_attempts):  \n",
    "        output = loaded_model.generate(\n",
    "            input_ids,\n",
    "            attention_mask=attention_mask,\n",
    "            max_length=max_length,\n",
    "            logits_processor=logits_processor,\n",
    "            do_sample=True,\n",
    "            top_p=0.95,\n",
    "            top_k=50,\n",
    "            temperature=0.7,\n",
    "            pad_token_id=tokenizer.eos_token_id  # Explicitly set pad token\n",
    "        )\n",
    "        \n",
    "        # Decode output\n",
    "        generated_text = tokenizer.decode(output[0], skip_special_tokens=True)\n",
    "        generated_texts[sum([contains(generated_text, constraint) for constraint in constraints])] = generated_text\n",
    "        # Check if all constraints are met\n",
    "        if 3 in generated_texts.keys():\n",
    "            return generated_text \n",
    "        \n",
    "        # Increase max_length and retry if constraints are not met\n",
    "        max_length += 100\n",
    "    return generated_texts[max(generated_texts.keys())]\n"
   ]
  },
  {
   "cell_type": "code",
   "execution_count": 6,
   "metadata": {},
   "outputs": [
    {
     "ename": "FileNotFoundError",
     "evalue": "[Errno 2] No such file or directory: 'c:\\\\Users\\\\18585\\\\Documents\\\\GitHub\\\\constrained_decoding_gbs_transformers/datasets/scraped_tolstoy.txt'",
     "output_type": "error",
     "traceback": [
      "\u001b[1;31m---------------------------------------------------------------------------\u001b[0m",
      "\u001b[1;31mFileNotFoundError\u001b[0m                         Traceback (most recent call last)",
      "Cell \u001b[1;32mIn[6], line 1\u001b[0m\n\u001b[1;32m----> 1\u001b[0m f\u001b[38;5;241m=\u001b[39m \u001b[38;5;28;43mopen\u001b[39;49m\u001b[43m(\u001b[49m\u001b[43mdir_path\u001b[49m\u001b[38;5;241;43m+\u001b[39;49m\u001b[38;5;124;43m\"\u001b[39;49m\u001b[38;5;124;43m/datasets/scraped_tolstoy.txt\u001b[39;49m\u001b[38;5;124;43m\"\u001b[39;49m\u001b[43m,\u001b[49m\u001b[38;5;124;43m\"\u001b[39;49m\u001b[38;5;124;43mr\u001b[39;49m\u001b[38;5;124;43m\"\u001b[39;49m\u001b[43m)\u001b[49m\n\u001b[0;32m      2\u001b[0m prompts \u001b[38;5;241m=\u001b[39m f\u001b[38;5;241m.\u001b[39mread()\u001b[38;5;241m.\u001b[39mreplace(\u001b[38;5;124m'\u001b[39m\u001b[38;5;130;01m\\n\u001b[39;00m\u001b[38;5;124m'\u001b[39m, \u001b[38;5;124m'\u001b[39m\u001b[38;5;124m'\u001b[39m)\u001b[38;5;241m.\u001b[39msplit(\u001b[38;5;124m\"\u001b[39m\u001b[38;5;124m. \u001b[39m\u001b[38;5;124m\"\u001b[39m)\n\u001b[0;32m      3\u001b[0m \u001b[38;5;28;01mimport\u001b[39;00m\u001b[38;5;250m \u001b[39m\u001b[38;5;21;01mrandom\u001b[39;00m\n",
      "File \u001b[1;32mc:\\Users\\18585\\anaconda3\\envs\\151bpa2\\lib\\site-packages\\IPython\\core\\interactiveshell.py:324\u001b[0m, in \u001b[0;36m_modified_open\u001b[1;34m(file, *args, **kwargs)\u001b[0m\n\u001b[0;32m    317\u001b[0m \u001b[38;5;28;01mif\u001b[39;00m file \u001b[38;5;129;01min\u001b[39;00m {\u001b[38;5;241m0\u001b[39m, \u001b[38;5;241m1\u001b[39m, \u001b[38;5;241m2\u001b[39m}:\n\u001b[0;32m    318\u001b[0m     \u001b[38;5;28;01mraise\u001b[39;00m \u001b[38;5;167;01mValueError\u001b[39;00m(\n\u001b[0;32m    319\u001b[0m         \u001b[38;5;124mf\u001b[39m\u001b[38;5;124m\"\u001b[39m\u001b[38;5;124mIPython won\u001b[39m\u001b[38;5;124m'\u001b[39m\u001b[38;5;124mt let you open fd=\u001b[39m\u001b[38;5;132;01m{\u001b[39;00mfile\u001b[38;5;132;01m}\u001b[39;00m\u001b[38;5;124m by default \u001b[39m\u001b[38;5;124m\"\u001b[39m\n\u001b[0;32m    320\u001b[0m         \u001b[38;5;124m\"\u001b[39m\u001b[38;5;124mas it is likely to crash IPython. If you know what you are doing, \u001b[39m\u001b[38;5;124m\"\u001b[39m\n\u001b[0;32m    321\u001b[0m         \u001b[38;5;124m\"\u001b[39m\u001b[38;5;124myou can use builtins\u001b[39m\u001b[38;5;124m'\u001b[39m\u001b[38;5;124m open.\u001b[39m\u001b[38;5;124m\"\u001b[39m\n\u001b[0;32m    322\u001b[0m     )\n\u001b[1;32m--> 324\u001b[0m \u001b[38;5;28;01mreturn\u001b[39;00m io_open(file, \u001b[38;5;241m*\u001b[39margs, \u001b[38;5;241m*\u001b[39m\u001b[38;5;241m*\u001b[39mkwargs)\n",
      "\u001b[1;31mFileNotFoundError\u001b[0m: [Errno 2] No such file or directory: 'c:\\\\Users\\\\18585\\\\Documents\\\\GitHub\\\\constrained_decoding_gbs_transformers/datasets/scraped_tolstoy.txt'"
     ]
    }
   ],
   "source": [
    "f= open(dir_path+\"/datasets/scraped_tolstoy.txt\",\"r\")\n",
    "prompts = f.read().replace('\\n', '').split(\". \")\n",
    "import random"
   ]
  },
  {
   "cell_type": "code",
   "execution_count": null,
   "metadata": {},
   "outputs": [
    {
     "name": "stdout",
     "output_type": "stream",
     "text": [
      "tensor([-59.0673])\n",
      "Once upon a time of calamity,\n",
      "\n",
      " sheknight came into our house, and it was evident that I was not the only one\n",
      "\n",
      " in the house. When she went into the kitchen I was at the head of\n",
      "\n",
      " the table, but I did not notice the pang of the stove, the spluttering of\n",
      "\n",
      " the door, the trembling of the stove, the smell of hay, the\n",
      "\n",
      " wind, the drowsy smell of tea, and the pang of the stove that was not\n",
      "\n",
      " being carried away by the cook.\n",
      "I did not know the cook, but I remember she was always at\n",
      "\n",
      " supper, and we did not see each other, and I did not know her\n",
      "\n",
      " name.\n",
      "I am not in the habit of staying long in the same room, said\n",
      "\n",
      " Vassilyev. My wife is not very good-natured, and\n",
      "\n",
      " we do not meet every day. When she was still a little girl she\n",
      "\n",
      " used to go out and go to the yard. I used to go to her in the evening,\n",
      "\n",
      " and she used to say, The lady who is going to take a boy to the\n",
      "\n",
      " school, you must give her a piece of bread and water.\n",
      "She used to say to me, We must have supper and water, too, and\n",
      "\n",
      " if you dont, she would say, And I would say to her, Ive got nothing\n",
      "\n",
      " to eat.\n",
      "Vassilyev, in a way, was very much like a child. He was very\n",
      "\n",
      " clumsy, and his hands were clumsy, and he used to have a headache, a\n",
      "\n",
      " fever, and a drop in the air.\n",
      "When she was old, he used to go to her, and sometimes she would tell him\n",
      "\n",
      " to bring him some bread and water, or to bring some meat, but he would\n",
      "\n",
      " stay with her, and then he would go away. When she was\n",
      "\n",
      " twenty-two, she used to go to the railway station and drink tea, and\n",
      "\n",
      " she would give me tea, and then she would go to the church, and she would\n",
      "\n",
      " make me sit down and pray, and then she would give me a piece of bread and\n",
      "\n",
      " water, and then I would come home. She would say to me, You must go\n",
      "\n",
      " to the church, I would ask her, and she would say, I want to go.\n",
      "I used to go to her at evening, and we used to talk about\n"
     ]
    }
   ],
   "source": [
    "constraints = []\n",
    "prompt  = random.choice(prompts)\n",
    "while len(prompt)<10 or len(prompt)>100:#make prompt easy and informative enough to work with\n",
    "    prompt = random.choice(prompts)\n",
    "\n",
    "while len(constraints)<3:\n",
    "    constraint = random.choice(prompts)\n",
    "    if len(constraint)>30:\n",
    "        chunk = \" \".join(constraint.split()[:4]) #first 4 words make the constraint\n",
    "        constraints.append(chunk)\n",
    "    else:\n",
    "        constraint = random.choice(prompts)\n",
    "story = generate_story(prompt, constraints= constraints)\n",
    "print(f\"Prompt:{prompt}\")\n",
    "print(f\"Constraints:{constraints}\")\n",
    "print(f\"Story:\\n {story}\")\n",
    "save_dir = dir_path+\"/generated_texts\"\n",
    "file_name = f\"/Chekhov style story on {prompt} with constraints {constraints}.txt\"\n",
    "with open(save_dir+file_name, \"w\") as file:\n",
    "    file.write(story)"
   ]
  }
 ],
 "metadata": {
  "kernelspec": {
   "display_name": "151bpa2",
   "language": "python",
   "name": "python3"
  },
  "language_info": {
   "codemirror_mode": {
    "name": "ipython",
    "version": 3
   },
   "file_extension": ".py",
   "mimetype": "text/x-python",
   "name": "python",
   "nbconvert_exporter": "python",
   "pygments_lexer": "ipython3",
   "version": "3.10.16"
  },
  "orig_nbformat": 4
 },
 "nbformat": 4,
 "nbformat_minor": 2
}
